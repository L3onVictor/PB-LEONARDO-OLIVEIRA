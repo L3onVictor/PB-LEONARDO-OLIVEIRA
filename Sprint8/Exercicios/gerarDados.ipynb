{
  "nbformat": 4,
  "nbformat_minor": 0,
  "metadata": {
    "colab": {
      "provenance": []
    },
    "kernelspec": {
      "name": "python3",
      "display_name": "Python 3"
    },
    "language_info": {
      "name": "python"
    }
  },
  "cells": [
    {
      "cell_type": "markdown",
      "source": [
        "# Etapa 1 - criando lista com 250 números aleatótios"
      ],
      "metadata": {
        "id": "AvSTLax4lPAb"
      }
    },
    {
      "cell_type": "code",
      "execution_count": null,
      "metadata": {
        "colab": {
          "base_uri": "https://localhost:8080/"
        },
        "id": "WeQ5SVJBzsct",
        "outputId": "1b77129c-2798-46d3-b2e4-42a63c2ac2c3"
      },
      "outputs": [
        {
          "output_type": "stream",
          "name": "stdout",
          "text": [
            "[67, 23, 74, 31, 43, 62, 89, 57, 47, 81, 22, 86, 29, 47, 26, 92, 92, 45, 84, 27, 54, 72, 40, 43, 64, 98, 96, 18, 74, 80, 75, 34, 39, 13, 58, 67, 65, 49, 25, 64, 88, 72, 8, 92, 44, 48, 77, 57, 78, 43, 10, 1, 51, 96, 92, 87, 96, 40, 28, 91, 90, 42, 42, 58, 67, 30, 59, 64, 25, 36, 50, 3, 87, 86, 64, 94, 100, 77, 91, 16, 80, 37, 40, 2, 78, 21, 2, 74, 26, 72, 46, 33, 79, 100, 74, 60, 29, 53, 74, 57, 42, 53, 31, 93, 23, 8, 26, 7, 35, 80, 21, 66, 58, 89, 46, 65, 16, 1, 78, 93, 46, 30, 96, 34, 80, 64, 40, 10, 91, 40, 75, 28, 84, 28, 78, 16, 79, 12, 47, 69, 1, 2, 49, 64, 18, 5, 73, 2, 56, 5, 39, 75, 83, 71, 14, 44, 9, 59, 50, 33, 48, 86, 3, 9, 51, 21, 47, 87, 80, 50, 55, 34, 7, 5, 55, 7, 23, 18, 38, 44, 64, 34, 27, 54, 37, 46, 87, 23, 23, 60, 38, 10, 91, 10, 9, 54, 78, 27, 77, 99, 97, 50, 93, 95, 63, 1, 72, 66, 89, 62, 35, 80, 94, 92, 90, 13, 71, 89, 49, 51, 86, 4, 12, 13, 94, 61, 71, 97, 11, 80, 3, 38, 41, 7, 2, 8, 18, 87, 81, 80, 17, 14, 25, 65, 60, 5, 95, 36, 69, 12]\n"
          ]
        }
      ],
      "source": [
        "import random\n",
        "\n",
        "# Lista com números aleatórios\n",
        "lista_aleatoria = [random.randint(1, 100) for i in range(250)]\n",
        "\n",
        "# Aplicando o reverse na lista\n",
        "lista_aleatoria.reverse()\n",
        "\n",
        "# Printando a lista\n",
        "print(lista_aleatoria)\n",
        "\n"
      ]
    },
    {
      "cell_type": "markdown",
      "source": [
        "# Etapa 2 Criando lista com o nome de 20 animais ordenada e armazenando em um .csv"
      ],
      "metadata": {
        "id": "2j0uJXHLlU15"
      }
    },
    {
      "cell_type": "code",
      "source": [
        "# Lista com 20 animais.\n",
        "animais = [\n",
        "    'Elefante', 'Tigre', 'Leão', 'Zebra', 'Girafa',\n",
        "    'Coelho', 'Panda', 'Gato', 'Pinguim', 'Golfinho',\n",
        "    'Tubarão', 'Baleia', 'Crocodilo', 'Jacaré', 'Hipopótamo',\n",
        "    'Rinoceronte', 'Leopardo', 'Guepardo', 'Avestruz', 'Cachorro'\n",
        "]\n",
        "# Ordenando a lista.\n",
        "animais.sort()\n",
        "\n",
        "# Printando e interando a lista.\n",
        "for animal in animais:\n",
        "  print(animal)\n",
        "\n",
        "# Criando o arquivo .csv e escrevendo com os nomes dos animais, um em cada linha.\n",
        "with open('animais.csv','w') as arquivo:\n",
        "  for animal in animais:\n",
        "    arquivo.write(f'{animal}\\n')\n",
        "print('\\nArquivo .csv criado com sucesso!')"
      ],
      "metadata": {
        "colab": {
          "base_uri": "https://localhost:8080/"
        },
        "id": "pLpeOx2llNxM",
        "outputId": "29749634-ccab-4fb1-da89-41cc7fa9bf75"
      },
      "execution_count": 1,
      "outputs": [
        {
          "output_type": "stream",
          "name": "stdout",
          "text": [
            "Avestruz\n",
            "Baleia\n",
            "Cachorro\n",
            "Coelho\n",
            "Crocodilo\n",
            "Elefante\n",
            "Gato\n",
            "Girafa\n",
            "Golfinho\n",
            "Guepardo\n",
            "Hipopótamo\n",
            "Jacaré\n",
            "Leopardo\n",
            "Leão\n",
            "Panda\n",
            "Pinguim\n",
            "Rinoceronte\n",
            "Tigre\n",
            "Tubarão\n",
            "Zebra\n",
            "\n",
            "Arquivo .csv criado com sucesso!\n"
          ]
        }
      ]
    },
    {
      "cell_type": "markdown",
      "source": [
        "# Etapa 3"
      ],
      "metadata": {
        "id": "MV0NMqI2ozI_"
      }
    },
    {
      "cell_type": "markdown",
      "source": [
        "## Instalando a biblioteca names no colab\n",
        "\n"
      ],
      "metadata": {
        "id": "-nSnTo2Ho4X2"
      }
    },
    {
      "cell_type": "code",
      "source": [
        "!pip install names"
      ],
      "metadata": {
        "colab": {
          "base_uri": "https://localhost:8080/"
        },
        "id": "HO5i-s_bo-Sp",
        "outputId": "f7ce4f09-3573-497f-d8f5-14468ef652aa"
      },
      "execution_count": 3,
      "outputs": [
        {
          "output_type": "stream",
          "name": "stdout",
          "text": [
            "Collecting names\n",
            "  Downloading names-0.3.0.tar.gz (789 kB)\n",
            "\u001b[?25l     \u001b[90m━━━━━━━━━━━━━━━━━━━━━━━━━━━━━━━━━━━━━━━━\u001b[0m \u001b[32m0.0/789.1 kB\u001b[0m \u001b[31m?\u001b[0m eta \u001b[36m-:--:--\u001b[0m\r\u001b[2K     \u001b[91m━━━━━━━\u001b[0m\u001b[91m╸\u001b[0m\u001b[90m━━━━━━━━━━━━━━━━━━━━━━━━━━━━━━━━\u001b[0m \u001b[32m153.6/789.1 kB\u001b[0m \u001b[31m4.5 MB/s\u001b[0m eta \u001b[36m0:00:01\u001b[0m\r\u001b[2K     \u001b[91m━━━━━━━━━━━━━━━━━━━━━━━━━━━━━━━━━━━━━━━\u001b[0m\u001b[91m╸\u001b[0m \u001b[32m788.5/789.1 kB\u001b[0m \u001b[31m13.1 MB/s\u001b[0m eta \u001b[36m0:00:01\u001b[0m\r\u001b[2K     \u001b[90m━━━━━━━━━━━━━━━━━━━━━━━━━━━━━━━━━━━━━━━━\u001b[0m \u001b[32m789.1/789.1 kB\u001b[0m \u001b[31m10.3 MB/s\u001b[0m eta \u001b[36m0:00:00\u001b[0m\n",
            "\u001b[?25h  Preparing metadata (setup.py) ... \u001b[?25l\u001b[?25hdone\n",
            "Building wheels for collected packages: names\n",
            "  Building wheel for names (setup.py) ... \u001b[?25l\u001b[?25hdone\n",
            "  Created wheel for names: filename=names-0.3.0-py3-none-any.whl size=803681 sha256=20aebda3e72d5c1df1a69e78c09f9cf41fdfc7c643d3f1f61ee291c3e2c84f04\n",
            "  Stored in directory: /root/.cache/pip/wheels/fc/9a/6f/78f4282bbcaa2d8c678b73c54c0bb1b7a04009f0d7cec79fce\n",
            "Successfully built names\n",
            "Installing collected packages: names\n",
            "Successfully installed names-0.3.0\n"
          ]
        }
      ]
    },
    {
      "cell_type": "markdown",
      "source": [
        "## Código"
      ],
      "metadata": {
        "id": "Jmw3vGg0sBWJ"
      }
    },
    {
      "cell_type": "markdown",
      "source": [
        "### Elaborando um dataset com 10000000 nomes aleatórios e armazenando em um arquivo .txt"
      ],
      "metadata": {
        "id": "SZlhYNY7PzES"
      }
    },
    {
      "cell_type": "code",
      "source": [
        "# Importando as bibliotecas\n",
        "import names, random, time\n",
        "\n",
        "# Definindo a semente de aleatoriedade\n",
        "random. seed(40)\n",
        "qtd_nomes_unicos = 3000\n",
        "qtd_nomes_aleatorios = 10000000\n",
        "\n",
        "aux = []\n",
        "# Gerando a lista com 10000000 de nomes aleatorios\n",
        "for i in range(0, qtd_nomes_unicos):\n",
        "  aux.append(names.get_full_name())\n",
        "\n",
        "print(\"Gerando {} nomes aleatórios\".format(qtd_nomes_aleatorios))\n",
        "\n",
        "dados=[]\n",
        "\n",
        "# Adicionando os nomes à lista 'dados'\n",
        "for i in range(0,qtd_nomes_aleatorios):\n",
        "  dados.append (random.choice(aux))\n",
        "\n",
        "# Armazenando a lista em um arquivo .txt com cada nome em uma linha\n",
        "with open('nomes_aleatorios.txt', 'w') as arquivo:\n",
        "  for nome in dados:\n",
        "    arquivo.write(f'{nome}\\n')\n",
        "print('\\nArquivo .txt criado com sucesso!')"
      ],
      "metadata": {
        "colab": {
          "base_uri": "https://localhost:8080/"
        },
        "id": "6huDtnIMpAI5",
        "outputId": "cdeab335-7bc0-4baf-9af4-79aaf543de6b"
      },
      "execution_count": 4,
      "outputs": [
        {
          "output_type": "stream",
          "name": "stdout",
          "text": [
            "Gerando 10000000 nomes aleatórios\n",
            "\n",
            "Arquivo .txt criado com sucesso!\n"
          ]
        }
      ]
    }
  ]
}