{
  "nbformat": 4,
  "nbformat_minor": 0,
  "metadata": {
    "colab": {
      "provenance": []
    },
    "kernelspec": {
      "name": "python3",
      "display_name": "Python 3"
    },
    "language_info": {
      "name": "python"
    }
  },
  "cells": [
    {
      "cell_type": "markdown",
      "source": [
        "# Instalando o Spark no colab"
      ],
      "metadata": {
        "id": "m0KeoQDC2qeV"
      }
    },
    {
      "cell_type": "code",
      "execution_count": null,
      "metadata": {
        "id": "eMXsicmcvq8r"
      },
      "outputs": [],
      "source": [
        "\n",
        "# Instalar o Java\n",
        "!apt-get install openjdk-11-jdk-headless -qq > /dev/null\n",
        "\n",
        "# Baixar o Spark 3.3.1 (compatível com Python 3.10)\n",
        "!wget -q https://archive.apache.org/dist/spark/spark-3.3.1/spark-3.3.1-bin-hadoop3.tgz\n",
        "\n",
        "# Extrair o arquivo do Spark\n",
        "!tar xf spark-3.3.1-bin-hadoop3.tgz\n",
        "\n",
        "# Mover o Spark para o diretório padrão\n",
        "!mv spark-3.3.1-bin-hadoop3 /usr/local/spark\n"
      ]
    },
    {
      "cell_type": "code",
      "source": [
        "# Configurar as variáveis de ambiente\n",
        "import os\n",
        "os.environ[\"JAVA_HOME\"] = \"/usr/lib/jvm/java-11-openjdk-amd64\"\n",
        "os.environ[\"SPARK_HOME\"] = \"/usr/local/spark\"\n",
        "os.environ[\"PYSPARK_PYTHON\"] = \"/usr/bin/python3\"\n",
        "os.environ[\"PYSPARK_DRIVER_PYTHON\"] = \"/usr/bin/python3\"\n",
        "\n",
        "\n",
        "\n",
        "# Instalar o findspark\n",
        "!pip install -q findspark"
      ],
      "metadata": {
        "id": "UJ-z-2CYv7TG"
      },
      "execution_count": null,
      "outputs": []
    },
    {
      "cell_type": "code",
      "source": [
        "import os\n",
        "\n",
        "# Configurar as variáveis de ambiente\n",
        "os.environ['SPARK_HOME'] = \"/usr/local/spark\"\n",
        "os.environ['HADOOP_HOME'] = \"/usr/local/spark\"\n",
        "os.environ['JAVA_HOME'] = \"/usr/lib/jvm/java-8-openjdk-amd64\"\n",
        "os.environ['PATH'] = os.environ['PATH'] + \":\" + os.environ['SPARK_HOME'] + \"/bin\" + \":\" + os.environ['HADOOP_HOME'] + \"/bin\"\n"
      ],
      "metadata": {
        "id": "ChFXK0Q1v8sP"
      },
      "execution_count": null,
      "outputs": []
    },
    {
      "cell_type": "code",
      "source": [
        "\n",
        "import findspark\n",
        "findspark.init()\n",
        "\n",
        "from pyspark.sql import SparkSession\n",
        "\n",
        "# Criar uma sessão Spark\n",
        "spark = SparkSession.builder \\\n",
        "    .appName(\"Google Colab Spark\") \\\n",
        "    .config(\"spark.driver.memory\", \"2g\") \\\n",
        "    .config(\"spark.executor.memory\", \"2g\") \\\n",
        "    .master(\"local[*]\") \\\n",
        "    .getOrCreate()\n",
        "\n",
        "# Verificar a versão do Spark\n",
        "print(f\"Versão do Spark: {spark.version}\")\n",
        "\n"
      ],
      "metadata": {
        "colab": {
          "base_uri": "https://localhost:8080/"
        },
        "id": "rAnRAELxv_8O",
        "outputId": "bd8f3a75-3306-4ab6-d294-af1a219b148a"
      },
      "execution_count": null,
      "outputs": [
        {
          "output_type": "stream",
          "name": "stdout",
          "text": [
            "Versão do Spark: 3.3.1\n"
          ]
        }
      ]
    },
    {
      "cell_type": "markdown",
      "source": [
        "# Código do exercício"
      ],
      "metadata": {
        "id": "GytxsAFn2w1C"
      }
    },
    {
      "cell_type": "markdown",
      "source": [
        "## Etapa 1 - Importanto as bibliotecas e lendo o arquivo nomes_aleatorios.txt"
      ],
      "metadata": {
        "id": "HG8RpbmxBDCz"
      }
    },
    {
      "cell_type": "code",
      "source": [
        "# Bibliotecas\n",
        "from pyspark.sql import SparkSession\n",
        "from pyspark import SparkContext, SQLContext\n",
        "\n",
        "# Iniciando sessão no Spark\n",
        "spark = SparkSession \\\n",
        "  .builder \\\n",
        "  .master (\"local[*]\") \\\n",
        "  .appName(\"Exercicio intro\") \\\n",
        "  .getOrCreate()\n",
        "\n",
        "# Lendo o arquivo 'nomes_aleatorios.txt'\n",
        "df_nomes = spark.read.text('nomes_aleatorios.txt')\n",
        "\n",
        "# Printando as 5 primeiras linhas do df\n",
        "df_nomes.show(5)"
      ],
      "metadata": {
        "colab": {
          "base_uri": "https://localhost:8080/"
        },
        "id": "FpvaMZYxxSSv",
        "outputId": "df0fbcfa-1cb9-4719-b775-1fad993b69c1"
      },
      "execution_count": null,
      "outputs": [
        {
          "output_type": "stream",
          "name": "stdout",
          "text": [
            "+----------------+\n",
            "|           value|\n",
            "+----------------+\n",
            "|  Frances Bennet|\n",
            "|   Jamie Russell|\n",
            "|  Edward Kistler|\n",
            "|   Sheila Maurer|\n",
            "|Donald Golightly|\n",
            "+----------------+\n",
            "only showing top 5 rows\n",
            "\n"
          ]
        }
      ]
    },
    {
      "cell_type": "code",
      "source": [
        "# Printando o Schema da DF\n",
        "df_nomes.printSchema()"
      ],
      "metadata": {
        "colab": {
          "base_uri": "https://localhost:8080/"
        },
        "id": "9kZTEESUzcck",
        "outputId": "72242317-8645-479c-c749-a04f36471172"
      },
      "execution_count": null,
      "outputs": [
        {
          "output_type": "stream",
          "name": "stdout",
          "text": [
            "root\n",
            " |-- value: string (nullable = true)\n",
            "\n"
          ]
        }
      ]
    },
    {
      "cell_type": "markdown",
      "source": [
        "## Etapa 2 - Adicionando a coluna **Nomes**"
      ],
      "metadata": {
        "id": "IWXJBmhjCEKw"
      }
    },
    {
      "cell_type": "code",
      "source": [
        "# Adicionando a coluna \"Nomes\"\n",
        "df_nomes = df_nomes.withColumnRenamed(\"value\", \"Nomes\")\n",
        "\n",
        "df_nomes.show(10)"
      ],
      "metadata": {
        "colab": {
          "base_uri": "https://localhost:8080/"
        },
        "id": "1xhINOOizfq1",
        "outputId": "364283cd-9452-4273-87b7-0cebc09dc226"
      },
      "execution_count": null,
      "outputs": [
        {
          "output_type": "stream",
          "name": "stdout",
          "text": [
            "+-----------------+\n",
            "|            Nomes|\n",
            "+-----------------+\n",
            "|   Frances Bennet|\n",
            "|    Jamie Russell|\n",
            "|   Edward Kistler|\n",
            "|    Sheila Maurer|\n",
            "| Donald Golightly|\n",
            "|       David Gray|\n",
            "|      Joy Bennett|\n",
            "|      Paul Kriese|\n",
            "|Berniece Ornellas|\n",
            "|    Brian Farrell|\n",
            "+-----------------+\n",
            "only showing top 10 rows\n",
            "\n"
          ]
        }
      ]
    },
    {
      "cell_type": "markdown",
      "source": [
        "## Etapa 3 - Adicionando a coluna **Escolaridade**"
      ],
      "metadata": {
        "id": "g2W1SLBTCKEp"
      }
    },
    {
      "cell_type": "code",
      "source": [
        "from pyspark.sql import functions as F\n",
        "\n",
        "# Armazenando a escolaridade em uma lista\n",
        "escolaridade = ['Fundamental', 'Medio', 'Superior']\n",
        "\n",
        "# Criando uma nova coluna chamada \"Escolaridade\"\n",
        "# Preenchendo a Nova coluna com os valores da lista de maneira aleatoria\n",
        "df_nomes = df_nomes.withColumn(\n",
        "    \"Escolaridade\",\n",
        "   F.when(F.rand() < 1/3, escolaridade[0])\n",
        "    .when(F.rand() < 2/3, escolaridade[1])\n",
        "    .otherwise(escolaridade[2])\n",
        ")\n",
        "\n",
        "# Printando o novo df\n",
        "df_nomes.show(10)"
      ],
      "metadata": {
        "colab": {
          "base_uri": "https://localhost:8080/"
        },
        "id": "EAyjeCuB1gyb",
        "outputId": "7208d27b-788f-4d09-db50-ee0277009ab5"
      },
      "execution_count": null,
      "outputs": [
        {
          "output_type": "stream",
          "name": "stdout",
          "text": [
            "+-----------------+------------+\n",
            "|            Nomes|Escolaridade|\n",
            "+-----------------+------------+\n",
            "|   Frances Bennet|       Medio|\n",
            "|    Jamie Russell| Fundamental|\n",
            "|   Edward Kistler| Fundamental|\n",
            "|    Sheila Maurer|       Medio|\n",
            "| Donald Golightly| Fundamental|\n",
            "|       David Gray|       Medio|\n",
            "|      Joy Bennett|    Superior|\n",
            "|      Paul Kriese| Fundamental|\n",
            "|Berniece Ornellas|       Medio|\n",
            "|    Brian Farrell| Fundamental|\n",
            "+-----------------+------------+\n",
            "only showing top 10 rows\n",
            "\n"
          ]
        }
      ]
    },
    {
      "cell_type": "markdown",
      "source": [
        "## Etapa 4 - Adicionando a coluna **Pais**"
      ],
      "metadata": {
        "id": "1iP3mUEzCymS"
      }
    },
    {
      "cell_type": "code",
      "source": [
        "# Armazenando os paises da America do Sul em uma lista\n",
        "paises = [\n",
        "    'Argentina', 'Brasil', 'Chile', 'Colômbia', 'Equador',\n",
        "    'Paraguai', 'Peru', 'Uruguai', 'Venezuela', 'Bolívia',\n",
        "    'Guyana', 'Suriname', 'Guiana Francesa'\n",
        "]\n",
        "\n",
        "# Criando a coluna \"Pais\" e a preenchendo com valores aleatórios da lista\n",
        "df_nomes = df_nomes.withColumn(\n",
        "    \"Pais\",\n",
        "    F.when(F.rand() < 1/13, paises[0])\n",
        "    .when(F.rand() < 2/13, paises[1])\n",
        "    .when(F.rand() < 3/13, paises[2])\n",
        "    .when(F.rand() < 4/13, paises[3])\n",
        "    .when(F.rand() < 5/13, paises[4])\n",
        "    .when(F.rand() < 6/13, paises[5])\n",
        "    .when(F.rand() < 7/13, paises[6])\n",
        "    .when(F.rand() < 8/13, paises[7])\n",
        "    .when(F.rand() < 9/13, paises[8])\n",
        "    .when(F.rand() < 10/13, paises[9])\n",
        "    .when(F.rand() < 11/13, paises[10])\n",
        "    .when(F.rand() < 12/13, paises[11])\n",
        "    .otherwise(paises[12])\n",
        ")\n",
        "\n",
        "\n",
        "# Mostrando o novo df\n",
        "df_nomes.show(10)"
      ],
      "metadata": {
        "colab": {
          "base_uri": "https://localhost:8080/"
        },
        "id": "HDp8vuDD2oHJ",
        "outputId": "970e775f-2aa2-4526-9ae7-6c46a65cd213"
      },
      "execution_count": null,
      "outputs": [
        {
          "output_type": "stream",
          "name": "stdout",
          "text": [
            "+-----------------+------------+---------+\n",
            "|            Nomes|Escolaridade|     Pais|\n",
            "+-----------------+------------+---------+\n",
            "|   Frances Bennet|       Medio|  Equador|\n",
            "|    Jamie Russell| Fundamental|   Brasil|\n",
            "|   Edward Kistler| Fundamental|   Brasil|\n",
            "|    Sheila Maurer|       Medio|     Peru|\n",
            "| Donald Golightly| Fundamental| Colômbia|\n",
            "|       David Gray|       Medio|     Peru|\n",
            "|      Joy Bennett|    Superior| Colômbia|\n",
            "|      Paul Kriese| Fundamental|  Uruguai|\n",
            "|Berniece Ornellas|       Medio|Argentina|\n",
            "|    Brian Farrell| Fundamental| Colômbia|\n",
            "+-----------------+------------+---------+\n",
            "only showing top 10 rows\n",
            "\n"
          ]
        }
      ]
    },
    {
      "cell_type": "markdown",
      "source": [
        "## Etapa 5 - Adicionando a coluna **AnoNascimento**"
      ],
      "metadata": {
        "id": "AT1XGQ-4DT2n"
      }
    },
    {
      "cell_type": "code",
      "source": [
        "# Criando uma nova coluna chamada \"AnoNascimento\" e a preenchendo com anos aleatorios entre 1945 e 2010\n",
        "df_nomes = df_nomes.withColumn(\n",
        "    \"AnoNascimento\",\n",
        "    (F.floor(F.rand() * (2010 - 1945 + 1)) + 1945)\n",
        ")\n",
        "\n",
        "# Printando o novo DF\n",
        "df_nomes.show(10)\n"
      ],
      "metadata": {
        "colab": {
          "base_uri": "https://localhost:8080/"
        },
        "id": "uqY5HzNp7nx-",
        "outputId": "d74dd347-7e8a-4dcf-b452-47ea01c32968"
      },
      "execution_count": null,
      "outputs": [
        {
          "output_type": "stream",
          "name": "stdout",
          "text": [
            "+-----------------+------------+---------+-------------+\n",
            "|            Nomes|Escolaridade|     Pais|AnoNascimento|\n",
            "+-----------------+------------+---------+-------------+\n",
            "|   Frances Bennet|       Medio|  Equador|         2006|\n",
            "|    Jamie Russell| Fundamental|   Brasil|         1964|\n",
            "|   Edward Kistler| Fundamental|   Brasil|         1992|\n",
            "|    Sheila Maurer|       Medio|     Peru|         2005|\n",
            "| Donald Golightly| Fundamental| Colômbia|         1972|\n",
            "|       David Gray|       Medio|     Peru|         1955|\n",
            "|      Joy Bennett|    Superior| Colômbia|         2000|\n",
            "|      Paul Kriese| Fundamental|  Uruguai|         1961|\n",
            "|Berniece Ornellas|       Medio|Argentina|         1987|\n",
            "|    Brian Farrell| Fundamental| Colômbia|         1993|\n",
            "+-----------------+------------+---------+-------------+\n",
            "only showing top 10 rows\n",
            "\n"
          ]
        }
      ]
    },
    {
      "cell_type": "markdown",
      "source": [
        "## Etapa 6 - Mostrando pessoas que nasceram neste século"
      ],
      "metadata": {
        "id": "-c2scjl6Dwlt"
      }
    },
    {
      "cell_type": "code",
      "source": [
        "# Filtrando as pessoas que nasceram a partir do seculo 21\n",
        "df_select = df_nomes.filter(F.col(\"AnoNascimento\") >= 2001)\n",
        "\n",
        "# Exibir os primeiros 10 nomes\n",
        "df_select.select(\"Nomes\", \"AnoNascimento\").show(10)"
      ],
      "metadata": {
        "colab": {
          "base_uri": "https://localhost:8080/"
        },
        "id": "TN3-oPpJ8XyV",
        "outputId": "85f9a50c-25b1-48d5-8d8a-dc62ce5a8ab0"
      },
      "execution_count": null,
      "outputs": [
        {
          "output_type": "stream",
          "name": "stdout",
          "text": [
            "+---------------+-------------+\n",
            "|          Nomes|AnoNascimento|\n",
            "+---------------+-------------+\n",
            "| Edward Kistler|         2005|\n",
            "|     David Gray|         2005|\n",
            "|    Joy Bennett|         2006|\n",
            "|Howard Lazarine|         2002|\n",
            "|   Roxie Bernal|         2004|\n",
            "| Wilfredo Grant|         2005|\n",
            "|     Anita Ross|         2008|\n",
            "| Mary Dillahunt|         2008|\n",
            "| Rosie Lovelady|         2002|\n",
            "|    Donald Vogt|         2009|\n",
            "+---------------+-------------+\n",
            "only showing top 10 rows\n",
            "\n"
          ]
        }
      ]
    },
    {
      "cell_type": "markdown",
      "source": [
        "## Etapa 7 - Refazendo a questão anterior com o Spark SQL"
      ],
      "metadata": {
        "id": "6ZQ6HremEYK-"
      }
    },
    {
      "cell_type": "code",
      "source": [
        "# Criando a tabela temporária\n",
        "df_nomes.createOrReplaceTempView(\"pessoas\")\n",
        "\n",
        "# Executando a consulta para selecionar as pessoas nascidas no século 21\n",
        "df_select_sql = spark.sql(\"\"\"\n",
        "    SELECT Nomes, AnoNascimento\n",
        "    FROM pessoas\n",
        "    WHERE AnoNascimento >= 2001\n",
        "\"\"\")\n",
        "\n",
        "# Mostrar os primeiros 10 nomes\n",
        "df_select_sql.show(10)\n"
      ],
      "metadata": {
        "colab": {
          "base_uri": "https://localhost:8080/"
        },
        "id": "FMIzVr8T8_kK",
        "outputId": "ee620ecb-ea12-45e9-a722-f22b03901555"
      },
      "execution_count": null,
      "outputs": [
        {
          "output_type": "stream",
          "name": "stdout",
          "text": [
            "+---------------+-------------+\n",
            "|          Nomes|AnoNascimento|\n",
            "+---------------+-------------+\n",
            "| Edward Kistler|         2005|\n",
            "|     David Gray|         2005|\n",
            "|    Joy Bennett|         2006|\n",
            "|Howard Lazarine|         2002|\n",
            "|   Roxie Bernal|         2004|\n",
            "| Wilfredo Grant|         2005|\n",
            "|     Anita Ross|         2008|\n",
            "| Mary Dillahunt|         2008|\n",
            "| Rosie Lovelady|         2002|\n",
            "|    Donald Vogt|         2009|\n",
            "+---------------+-------------+\n",
            "only showing top 10 rows\n",
            "\n"
          ]
        }
      ]
    },
    {
      "cell_type": "markdown",
      "source": [
        "## Etapa 8 - Mostrando a quantidade de pesssoas da geração Millenium"
      ],
      "metadata": {
        "id": "RJBjLNckEtj1"
      }
    },
    {
      "cell_type": "code",
      "source": [
        "# Filtrando pessoas que nasceram entre os anos de 1980 e 1994 e armazenando no dataframe \"df_millennials\"\n",
        "df_millennials = df_nomes.filter((F.col(\"AnoNascimento\") >= 1980) & (F.col(\"AnoNascimento\") <= 1994)).count()\n",
        "\n",
        "# Printando a quantidade de millennials\n",
        "print(f\"Número de Millennials: {df_millennials}\")"
      ],
      "metadata": {
        "colab": {
          "base_uri": "https://localhost:8080/"
        },
        "id": "nWRAst3z-gfv",
        "outputId": "0774e119-8de6-4d0e-bb72-641790d1f8f8"
      },
      "execution_count": null,
      "outputs": [
        {
          "output_type": "stream",
          "name": "stdout",
          "text": [
            "Número de Millennials: 2272680\n"
          ]
        }
      ]
    },
    {
      "cell_type": "markdown",
      "source": [
        "## Etapa 9 - Refazendo a questão anterior com o SQL"
      ],
      "metadata": {
        "id": "Y26xD7UQFH2B"
      }
    },
    {
      "cell_type": "code",
      "source": [
        "# Criando a tabela temporária\n",
        "df_nomes.createOrReplaceTempView(\"pessoas\")\n",
        "\n",
        "# Realizando a consulta para saber quantas pessoas nasceram entre os anos de 1980 e 1945\n",
        "millennials_num = spark.sql(\"\"\"\n",
        "    SELECT count(*) as num\n",
        "    FROM pessoas\n",
        "    WHERE AnoNascimento BETWEEN 1980 AND 1994\n",
        "\"\"\").collect()[0]['num']\n",
        "\n",
        "# Printando a quantidade de millenials\n",
        "print(f\"Número de millennials: {millennials_num}\")\n"
      ],
      "metadata": {
        "colab": {
          "base_uri": "https://localhost:8080/"
        },
        "id": "UOv8Sh9N-_FD",
        "outputId": "da657017-8150-4f0b-e5ef-c371b1049823"
      },
      "execution_count": null,
      "outputs": [
        {
          "output_type": "stream",
          "name": "stdout",
          "text": [
            "Número de millennials: 2272680\n"
          ]
        }
      ]
    },
    {
      "cell_type": "markdown",
      "source": [
        "## Etapa 10 - Usando o Spark SQL para obter a quantidade de pessoas de cada paise e garação"
      ],
      "metadata": {
        "id": "hpWFpcMWGUkH"
      }
    },
    {
      "cell_type": "code",
      "source": [
        "# Criando uma tabela temporária\n",
        "df_nomes.createOrReplaceTempView(\"pessoas\")\n",
        "\n",
        "# Realizando a consulta SQL para obter a quantidade de pessoas de cada país para cada geração\n",
        "query = \"\"\"\n",
        "    SELECT\n",
        "        Pais,\n",
        "        CASE\n",
        "            WHEN AnoNascimento BETWEEN 1944 AND 1964 THEN 'Baby Boomers'\n",
        "            WHEN AnoNascimento BETWEEN 1965 AND 1979 THEN 'Geração X'\n",
        "            WHEN AnoNascimento BETWEEN 1980 AND 1994 THEN 'Millennials (Geração Y)'\n",
        "            WHEN AnoNascimento BETWEEN 1995 AND 2015 THEN 'Geração Z'\n",
        "        END AS Geracao,\n",
        "        COUNT(*) AS Quantidade\n",
        "    FROM pessoas\n",
        "    GROUP BY Pais, Geracao\n",
        "    ORDER BY Pais, Geracao, Quantidade\n",
        "\"\"\"\n",
        "\n",
        "# Executar a consulta e armazenar o resultado em um DataFrame\n",
        "df_resultado = spark.sql(query)\n",
        "\n",
        "# Mostrar o resultado\n",
        "df_resultado.show()"
      ],
      "metadata": {
        "colab": {
          "base_uri": "https://localhost:8080/"
        },
        "id": "bFJZHdwbAScr",
        "outputId": "dc65bc3e-c0a3-4aa2-bd7e-589160ad7587"
      },
      "execution_count": null,
      "outputs": [
        {
          "output_type": "stream",
          "name": "stdout",
          "text": [
            "+---------+--------------------+----------+\n",
            "|     Pais|             Geracao|Quantidade|\n",
            "+---------+--------------------+----------+\n",
            "|Argentina|        Baby Boomers|    233215|\n",
            "|Argentina|           Geração X|    174430|\n",
            "|Argentina|           Geração Z|    186562|\n",
            "|Argentina|Millennials (Gera...|    175528|\n",
            "|  Bolívia|        Baby Boomers|     17565|\n",
            "|  Bolívia|           Geração X|     13193|\n",
            "|  Bolívia|           Geração Z|     14045|\n",
            "|  Bolívia|Millennials (Gera...|     13229|\n",
            "|   Brasil|        Baby Boomers|    430202|\n",
            "|   Brasil|           Geração X|    322832|\n",
            "|   Brasil|           Geração Z|    344854|\n",
            "|   Brasil|Millennials (Gera...|    323071|\n",
            "|    Chile|        Baby Boomers|    546644|\n",
            "|    Chile|           Geração X|    409845|\n",
            "|    Chile|           Geração Z|    437575|\n",
            "|    Chile|Millennials (Gera...|    409690|\n",
            "| Colômbia|        Baby Boomers|    559452|\n",
            "| Colômbia|           Geração X|    420365|\n",
            "| Colômbia|           Geração Z|    448913|\n",
            "| Colômbia|Millennials (Gera...|    420336|\n",
            "+---------+--------------------+----------+\n",
            "only showing top 20 rows\n",
            "\n"
          ]
        }
      ]
    }
  ]
}