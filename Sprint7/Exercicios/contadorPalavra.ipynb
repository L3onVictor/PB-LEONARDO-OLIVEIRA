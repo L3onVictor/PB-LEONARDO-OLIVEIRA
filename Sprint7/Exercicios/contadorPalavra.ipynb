{
  "cells": [
    {
      "cell_type": "markdown",
      "metadata": {
        "id": "psPeU67ITX5s"
      },
      "source": [
        "# OBS: Tudo o que foi realizado nesse código, foi feito utilizando o google colab"
      ]
    },
    {
      "cell_type": "markdown",
      "metadata": {
        "id": "6e4H75c7TgzK"
      },
      "source": [
        "## Instalando o Spark"
      ]
    },
    {
      "cell_type": "code",
      "execution_count": 3,
      "metadata": {
        "id": "dlqBRYflTiwP"
      },
      "outputs": [],
      "source": [
        "# Instalar o Java\n",
        "!apt-get install openjdk-11-jdk-headless -qq > /dev/null\n",
        "\n",
        "# Baixar o Spark\n",
        "!wget -q https://archive.apache.org/dist/spark/spark-3.3.1/spark-3.3.1-bin-hadoop3.tgz\n",
        "\n",
        "# Extrair o arquivo do Spark\n",
        "!tar xf spark-3.3.1-bin-hadoop3.tgz\n",
        "\n",
        "# Mover o Spark para o diretório padrão\n",
        "!mv spark-3.3.1-bin-hadoop3 /usr/local/spark\n",
        "\n",
        "# Configurar as variáveis de ambiente\n",
        "import os\n",
        "os.environ[\"JAVA_HOME\"] = \"/usr/lib/jvm/java-11-openjdk-amd64\"\n",
        "os.environ[\"SPARK_HOME\"] = \"/usr/local/spark\"\n",
        "os.environ[\"PYSPARK_PYTHON\"] = \"/usr/bin/python3\"\n",
        "os.environ[\"PYSPARK_DRIVER_PYTHON\"] = \"/usr/bin/python3\"\n"
      ]
    },
    {
      "cell_type": "code",
      "execution_count": 4,
      "metadata": {
        "id": "SU2pNQemTlT7"
      },
      "outputs": [],
      "source": [
        "# Instalar o findspark\n",
        "!pip install -q findspark\n"
      ]
    },
    {
      "cell_type": "markdown",
      "metadata": {
        "id": "zLunkrt2TncZ"
      },
      "source": [
        "## Testando o Apache  Spark"
      ]
    },
    {
      "cell_type": "code",
      "execution_count": 5,
      "metadata": {
        "colab": {
          "base_uri": "https://localhost:8080/"
        },
        "id": "RSYLFZR4TmGP",
        "outputId": "d2538635-498e-4ac2-df4e-e0ca6168d577"
      },
      "outputs": [
        {
          "name": "stdout",
          "output_type": "stream",
          "text": [
            "Versão do Spark: 3.5.3\n"
          ]
        }
      ],
      "source": [
        "import findspark\n",
        "findspark.init()\n",
        "\n",
        "from pyspark.sql import SparkSession\n",
        "\n",
        "# Criar uma sessão Spark\n",
        "spark = SparkSession.builder \\\n",
        "    .appName(\"Google Colab Spark\") \\\n",
        "    .config(\"spark.driver.memory\", \"2g\") \\\n",
        "    .config(\"spark.executor.memory\", \"2g\") \\\n",
        "    .master(\"local[*]\") \\\n",
        "    .getOrCreate()\n",
        "\n",
        "# Verificar a versão do Spark\n",
        "print(f\"Versão do Spark: {spark.version}\")\n"
      ]
    },
    {
      "cell_type": "markdown",
      "metadata": {
        "id": "6jKMdsnhTj6k"
      },
      "source": [
        "## Código do contador de palavras"
      ]
    },
    {
      "cell_type": "code",
      "execution_count": 6,
      "metadata": {
        "colab": {
          "base_uri": "https://localhost:8080/"
        },
        "id": "xEH1xx35QkH0",
        "outputId": "6f66281d-4e9f-4e49-f434-fd4423daaa0f"
      },
      "outputs": [
        {
          "name": "stdout",
          "output_type": "stream",
          "text": [
            "'-': 9\n",
            "'[Sprint': 7\n",
            "'de': 5\n",
            "'e': 3\n",
            "'##': 2\n",
            "'Pernambuco': 2\n",
            "'#': 1\n",
            "'Leonardo': 1\n",
            "'Victor': 1\n",
            "'Oliveira!**': 1\n",
            "'👋': 1\n",
            "'Sobre': 1\n",
            "'mim': 1\n",
            "'![Foto_git](assets/Fotogit.jpg)': 1\n",
            "'**Localização:**': 1\n",
            "'Garanhuns,': 1\n",
            "'🏫': 1\n",
            "'**Instituição': 1\n",
            "'ensino:**': 1\n",
            "'Instituto': 1\n",
            "'IFPE': 1\n",
            "'Sistemas': 1\n",
            "'📖': 1\n",
            "'atual:**': 1\n",
            "'3º': 1\n",
            "'período': 1\n",
            "'experiência': 1\n",
            "'profissional': 1\n",
            "'💻': 1\n",
            "'Java,': 1\n",
            "'HTML,': 1\n",
            "'CSS': 1\n",
            "'**Hobbies:**': 1\n",
            "'praticar': 1\n",
            "'calistenia': 1\n",
            "'Sprints': 1\n",
            "'1.': 1\n",
            "'3.': 1\n",
            "'3](Sprint3/)': 1\n",
            "'4](Sprint4/)': 1\n",
            "'5.': 1\n",
            "'**Olá,': 1\n",
            "'eu': 1\n",
            "'sou': 1\n",
            "'Bezerra': 1\n",
            "'🌎': 1\n",
            "'Federal': 1\n",
            "'🎓': 1\n",
            "'**Curso:**': 1\n",
            "'Análise': 1\n",
            "'Desenvolvimento': 1\n",
            "'ADS': 1\n",
            "'**Semestre': 1\n",
            "'💼': 1\n",
            "'**Experiência:**': 1\n",
            "'Nenhuma': 1\n",
            "'na': 1\n",
            "'área': 1\n",
            "'tecnologia': 1\n",
            "'**Conhecimentos:**': 1\n",
            "'Python,': 1\n",
            "'JavaScript,': 1\n",
            "'MySQL': 1\n",
            "'🎸': 1\n",
            "'Tocar': 1\n",
            "'violão,': 1\n",
            "'ler': 1\n",
            "'🏋️': 1\n",
            "'1](Sprint1/)': 1\n",
            "'2.': 1\n",
            "'2](Sprint2/)': 1\n",
            "'4.': 1\n",
            "'5](Sprint5/)': 1\n",
            "'6.': 1\n",
            "'6](Sprint6/)': 1\n",
            "'7.': 1\n",
            "'7](Sprint7/)': 1\n"
          ]
        }
      ],
      "source": [
        "from pyspark.sql import SparkSession\n",
        "from urllib.request import urlopen\n",
        "\n",
        "# Criando a sessão Spark\n",
        "spark = SparkSession.builder.master(\"local[*]\").appName(\"ContadorDePalavras\").getOrCreate()\n",
        "sc = spark.sparkContext\n",
        "\n",
        "# URL do arquivo README no GitHub\n",
        "url = \"https://raw.githubusercontent.com/L3onVictor/contedor_palavra/refs/heads/main/README.md\"\n",
        "\n",
        "# Baixando o conteúdo do README\n",
        "conteudo = urlopen(url).read().decode(\"utf-8\")\n",
        "\n",
        "# Salvando o conteúdo em um arquivo local\n",
        "with open(\"README.md\", \"w\") as arquivo:\n",
        "    arquivo.write(conteudo)\n",
        "\n",
        "# Lendo o arquivo usando Spark\n",
        "rdd = sc.textFile(\"README.md\")\n",
        "\n",
        "# Realizando a contagem de palavras\n",
        "contagem_palavras = (\n",
        "    rdd.flatMap(lambda linha: linha.split())\n",
        "       .map(lambda palavra: (palavra, 1))\n",
        "       .reduceByKey(lambda a, b: a + b)\n",
        "       .sortBy(lambda x: x[1], ascending=False)\n",
        ")\n",
        "\n",
        "# Printando as palavras\n",
        "for palavra, quantidade in contagem_palavras.collect():\n",
        "    print(f\"'{palavra}': {quantidade}\")\n",
        "\n",
        "\n",
        "spark.stop()\n"
      ]
    }
  ],
  "metadata": {
    "colab": {
      "provenance": []
    },
    "kernelspec": {
      "display_name": "Python 3",
      "name": "python3"
    },
    "language_info": {
      "name": "python",
      "version": "3.12.6"
    }
  },
  "nbformat": 4,
  "nbformat_minor": 0
}
