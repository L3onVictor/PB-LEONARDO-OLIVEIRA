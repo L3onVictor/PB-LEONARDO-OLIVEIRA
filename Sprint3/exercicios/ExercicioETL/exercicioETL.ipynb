{
 "cells": [
  {
   "cell_type": "markdown",
   "metadata": {},
   "source": [
    "# Apresente o **ator/atriz** com maior números de filmes e a respectiva quantidade."
   ]
  },
  {
   "cell_type": "code",
   "execution_count": 9,
   "metadata": {},
   "outputs": [],
   "source": [
    "with open(\"actors.csv\", \"r\") as atores:\n",
    "    linhas = atores.readlines()\n",
    "    linhas = linhas[1:]\n",
    "\n",
    "    atorFilmes =''\n",
    "    qtdFilmes = 0\n",
    "\n",
    "    for i in linhas:\n",
    "        coluna = i.strip().split(',')\n",
    "\n",
    "        ator = coluna[0].strip().replace('\"','')\n",
    "        numFilmes = float(coluna[2].strip())\n",
    "\n",
    "        if numFilmes > qtdFilmes:\n",
    "            qtdFilmes = numFilmes\n",
    "            atorFilmes = ator\n",
    "\n",
    "with open('etapa-1.txt', 'w') as etapa1:\n",
    "    etapa1.write(f'O ator/atriz com mais filmes é: {atorFilmes}, com {qtdFilmes} filmes produzidos.')"
   ]
  }
 ],
 "metadata": {
  "kernelspec": {
   "display_name": "Python 3",
   "language": "python",
   "name": "python3"
  },
  "language_info": {
   "codemirror_mode": {
    "name": "ipython",
    "version": 3
   },
   "file_extension": ".py",
   "mimetype": "text/x-python",
   "name": "python",
   "nbconvert_exporter": "python",
   "pygments_lexer": "ipython3",
   "version": "3.12.6"
  }
 },
 "nbformat": 4,
 "nbformat_minor": 2
}
