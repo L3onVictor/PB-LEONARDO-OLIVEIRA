{
 "cells": [
  {
   "cell_type": "markdown",
   "metadata": {},
   "source": [
    "# Apresente o **ator/atriz** com maior números de filmes e a respectiva quantidade."
   ]
  },
  {
   "cell_type": "code",
   "execution_count": 5,
   "metadata": {},
   "outputs": [],
   "source": [
    "with open(\"actors.csv\", \"r\") as atores:\n",
    "    linhas = atores.readlines()\n",
    "    linhas = linhas[1:]\n",
    "\n",
    "    atorFilmes =''\n",
    "    qtdFilmes = 0\n",
    "\n",
    "    for linha in linhas:\n",
    "        linha = linha.strip()\n",
    "\n",
    "        if linha.startswith('\"'):\n",
    "            fim_nome = linha.find('\",')\n",
    "            nome_completo = linha[1:fim_nome]\n",
    "            linha = linha[:fim_nome].replace(',', '') + linha[fim_nome:]\n",
    "            linha = linha.replace('\"', '')\n",
    "        \n",
    "        colunas = linha.split(',')\n",
    "\n",
    "        ator = colunas[0].strip().replace('\"','')\n",
    "        numFilmes = int(colunas[2].strip())\n",
    "\n",
    "        if numFilmes > qtdFilmes:\n",
    "            qtdFilmes = numFilmes\n",
    "            atorFilmes = ator\n",
    "\n",
    "with open('etapa-1.txt', 'w') as etapa1:\n",
    "    etapa1.write(f'Ator/Atriz com mais filmes:\\nNome: {atorFilmes}.\\nFilmes produzidos: {qtdFilmes}.')"
   ]
  },
  {
   "cell_type": "markdown",
   "metadata": {},
   "source": [
    "[etapa-1.txt](etapa-1.txt)"
   ]
  },
  {
   "cell_type": "markdown",
   "metadata": {},
   "source": [
    "# Apresente a média de receita de bilheteria bruta dos principais filmes, considerando todos os atores.  "
   ]
  },
  {
   "cell_type": "code",
   "execution_count": 14,
   "metadata": {},
   "outputs": [],
   "source": [
    "with open('actors.csv','r') as file:\n",
    "    coluna = [\n",
    "        float(linha.strip().rsplit(',', 5)[5]) \n",
    "        for linha in file.readlines()[1:]\n",
    "        ]\n",
    "\n",
    "    media = sum(coluna) / len(coluna)\n",
    "\n",
    "with open('etapa-2.txt', 'w', encoding='utf-8') as etapa2:\n",
    "    etapa2.write(f'A media da receita de bilheteria bruta dos principais filmes é US$: {media} milhões.')\n",
    "\n"
   ]
  },
  {
   "cell_type": "markdown",
   "metadata": {},
   "source": [
    "[etapa-2.txt](etapa-2.txt)"
   ]
  },
  {
   "cell_type": "markdown",
   "metadata": {},
   "source": [
    "# Apresente o ator/atriz com a amior média de receita de bilheteria bruta por filme do conjuto de dados."
   ]
  },
  {
   "cell_type": "code",
   "execution_count": 20,
   "metadata": {},
   "outputs": [],
   "source": [
    "with open('actors.csv', 'r') as file:\n",
    "    medias = {}\n",
    "\n",
    "    for linha in file.readlines()[1:]:\n",
    "        linha = linha.strip()\n",
    "\n",
    "        dados = linha.rsplit(',', 5)\n",
    "\n",
    "\n",
    "        ator = dados[0].replace('\"', '')\n",
    "\n",
    "        media_por_filme = float(dados[3])\n",
    "\n",
    "        medias[ator] = media_por_filme\n",
    "\n",
    "    ator_maior_media=max(medias, key=medias.get)\n",
    "    maior_media = medias[ator_maior_media]\n",
    "\n",
    "with open('etapa-3.txt', 'w', encoding='utf-8') as etapa3:\n",
    "    etapa3.write(f'Ator/Atriz com a maior média de bilheteria bruta por filme:\\nNome: {ator_maior_media}.\\nMédia por filme: {maior_media}.')"
   ]
  }
 ],
 "metadata": {
  "kernelspec": {
   "display_name": "Python 3",
   "language": "python",
   "name": "python3"
  },
  "language_info": {
   "codemirror_mode": {
    "name": "ipython",
    "version": 3
   },
   "file_extension": ".py",
   "mimetype": "text/x-python",
   "name": "python",
   "nbconvert_exporter": "python",
   "pygments_lexer": "ipython3",
   "version": "3.12.6"
  }
 },
 "nbformat": 4,
 "nbformat_minor": 2
}
