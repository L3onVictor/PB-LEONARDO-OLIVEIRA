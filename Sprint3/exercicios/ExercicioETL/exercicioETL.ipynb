{
 "cells": [
  {
   "cell_type": "markdown",
   "metadata": {},
   "source": [
    "# Apresente o **ator/atriz** com maior números de filmes e a respectiva quantidade."
   ]
  },
  {
   "cell_type": "code",
   "execution_count": 5,
   "metadata": {},
   "outputs": [],
   "source": [
    "with open(\"actors.csv\", \"r\") as atores:\n",
    "    linhas = atores.readlines()\n",
    "    linhas = linhas[1:]\n",
    "\n",
    "    atorFilmes =''\n",
    "    qtdFilmes = 0\n",
    "\n",
    "    for linha in linhas:\n",
    "        linha = linha.strip()\n",
    "\n",
    "        if linha.startswith('\"'):\n",
    "            fim_nome = linha.find('\",')\n",
    "            nome_completo = linha[1:fim_nome]\n",
    "            linha = linha[:fim_nome].replace(',', '') + linha[fim_nome:]\n",
    "            linha = linha.replace('\"', '')\n",
    "        \n",
    "        colunas = linha.split(',')\n",
    "\n",
    "        ator = colunas[0].strip().replace('\"','')\n",
    "        numFilmes = int(colunas[2].strip())\n",
    "\n",
    "        if numFilmes > qtdFilmes:\n",
    "            qtdFilmes = numFilmes\n",
    "            atorFilmes = ator\n",
    "\n",
    "with open('etapa-1.txt', 'w') as etapa1:\n",
    "    etapa1.write(f'Ator/Atriz com mais filmes:\\nNome: {atorFilmes}.\\nFilmes produzidos: {qtdFilmes}.')"
   ]
  },
  {
   "cell_type": "markdown",
   "metadata": {},
   "source": [
    "[etapa-1.txt](etapa-1.txt)"
   ]
  },
  {
   "cell_type": "markdown",
   "metadata": {},
   "source": [
    "# Apresente a média de receita de bilheteria bruta dos principais filmes, considerando todos os atores.  "
   ]
  },
  {
   "cell_type": "code",
   "execution_count": 14,
   "metadata": {},
   "outputs": [],
   "source": [
    "with open('actors.csv','r') as file:\n",
    "    coluna = [\n",
    "        float(linha.strip().rsplit(',', 5)[5]) \n",
    "        for linha in file.readlines()[1:]\n",
    "        ]\n",
    "\n",
    "    media = sum(coluna) / len(coluna)\n",
    "\n",
    "with open('etapa-2.txt', 'w', encoding='utf-8') as etapa2:\n",
    "    etapa2.write(f'A media da receita de bilheteria bruta dos principais filmes é US$: {media} milhões.')\n",
    "\n"
   ]
  },
  {
   "cell_type": "markdown",
   "metadata": {},
   "source": [
    "[etapa-2.txt](etapa-2.txt)"
   ]
  },
  {
   "cell_type": "markdown",
   "metadata": {},
   "source": [
    "# Apresente o ator/atriz com a amior média de receita de bilheteria bruta por filme do conjuto de dados."
   ]
  },
  {
   "cell_type": "code",
   "execution_count": 20,
   "metadata": {},
   "outputs": [],
   "source": [
    "with open('actors.csv', 'r') as file:\n",
    "    medias = {}\n",
    "\n",
    "    for linha in file.readlines()[1:]:\n",
    "        linha = linha.strip()\n",
    "\n",
    "        dados = linha.rsplit(',', 5)\n",
    "\n",
    "\n",
    "        ator = dados[0].replace('\"', '')\n",
    "\n",
    "        media_por_filme = float(dados[3])\n",
    "\n",
    "        medias[ator] = media_por_filme\n",
    "\n",
    "    ator_maior_media=max(medias, key=medias.get)\n",
    "    maior_media = medias[ator_maior_media]\n",
    "\n",
    "with open('etapa-3.txt', 'w', encoding='utf-8') as etapa3:\n",
    "    etapa3.write(f'Ator/Atriz com a maior média de bilheteria bruta por filme:\\nNome: {ator_maior_media}.\\nMédia por filme: {maior_media}.')"
   ]
  },
  {
   "cell_type": "markdown",
   "metadata": {},
   "source": [
    "[etapa-3.txt](etapa-3.txt)"
   ]
  },
  {
   "cell_type": "markdown",
   "metadata": {},
   "source": [
    "# A coluna #1 Movie contém o filme de maior bilheteria em que o ator atuou. Realize a contagem de aparições destes filmes no dataset, listando-os ordenados pela quantidade de vezes em que estão presentes. Considere a ordem decrescente e, em segundo nível, o nome do filme. Ao escrever no arquivo, considere o padrão de saída **(sequencia) - O filme (nome filme) aparece (quantidade)**"
   ]
  },
  {
   "cell_type": "code",
   "execution_count": 8,
   "metadata": {},
   "outputs": [],
   "source": [
    "with open('actors.csv', 'r') as file:\n",
    "    quantidade = {}\n",
    "\n",
    "    next(file)\n",
    "    for linha in file:\n",
    "        linha = linha.strip()\n",
    "        dados = linha.rsplit(',', 5)\n",
    "        filme = dados[4]\n",
    "\n",
    "        quantidade[filme] = quantidade.get(filme, 0) + 1\n",
    "\n",
    "ordenado = sorted(quantidade.items(), key=lambda item: (-item[1], item[0]))\n",
    "\n",
    "with open('etapa-4.txt', 'w', encoding='utf-8') as etapa4:\n",
    "    for filme, contagem in ordenado:\n",
    "        etapa4.write(f'O filme {filme} aparece {contagem} vez(es) no dataset.\\n')\n"
   ]
  },
  {
   "cell_type": "markdown",
   "metadata": {},
   "source": [
    "[etapa-4.txt](etapa-4.txt)"
   ]
  },
  {
   "cell_type": "markdown",
   "metadata": {},
   "source": [
    "# Apresente a lista dos atores ordenada pela receita bruta de bilheteria de seus filmes em ordem decrescente. Considere o padrão de saída **(nome autor) - (receita  total bruta)**"
   ]
  },
  {
   "cell_type": "code",
   "execution_count": 7,
   "metadata": {},
   "outputs": [],
   "source": [
    "with open('actors.csv', 'r') as file:\n",
    "    receita = {}\n",
    "\n",
    "    next(file)\n",
    "    for linha in file:\n",
    "        linha = linha.strip()\n",
    "\n",
    "\n",
    "        if(linha.startswith('\"')):\n",
    "            linha = linha.replace(', ',' ')\n",
    "\n",
    "        coluna = linha.split(',')\n",
    "\n",
    "        nome = coluna[0].replace('\"', '').strip()\n",
    "        gross = float(coluna[1].strip())\n",
    "\n",
    "        receita[nome] = gross\n",
    "\n",
    "ordenar_receita = sorted(receita.items(), key=lambda items: items[1], reverse=True)\n",
    "\n",
    "with open('etapa-5.txt', 'w') as etapa5:\n",
    "    for nome, gross in ordenar_receita:\n",
    "        etapa5.write(f'{nome} - {gross}\\n')\n",
    "        "
   ]
  },
  {
   "cell_type": "markdown",
   "metadata": {},
   "source": [
    "[etapa-5.txt](etapa-5.txt)"
   ]
  }
 ],
 "metadata": {
  "kernelspec": {
   "display_name": "Python 3",
   "language": "python",
   "name": "python3"
  },
  "language_info": {
   "codemirror_mode": {
    "name": "ipython",
    "version": 3
   },
   "file_extension": ".py",
   "mimetype": "text/x-python",
   "name": "python",
   "nbconvert_exporter": "python",
   "pygments_lexer": "ipython3",
   "version": "3.12.6"
  }
 },
 "nbformat": 4,
 "nbformat_minor": 2
}
